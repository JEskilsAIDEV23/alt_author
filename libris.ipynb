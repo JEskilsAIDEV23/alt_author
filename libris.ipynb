{
 "cells": [
  {
   "cell_type": "code",
   "execution_count": 29,
   "metadata": {},
   "outputs": [],
   "source": [
    "import pandas as pd \n",
    "author_url ='Astrid+Lindgren'\n",
    "URL = f\"http://libris.kb.se/xsearch?query={author_url}&format=json&n=50\"\n",
    "df = pd.read_json(URL)\n",
    "df = df['xsearch']\n",
    "df = df['list']\n",
    "df = pd.json_normalize(df)\n",
    "df_out = df.loc[(df.type=='book')&(df.language=='swe')].reset_index()\n",
    "df_libris = df_out.to_dict()"
   ]
  },
  {
   "cell_type": "code",
   "execution_count": 27,
   "metadata": {},
   "outputs": [],
   "source": [
    "author = author_url.split('+')\n",
    "auth_libris = df_libris['creator'][0]\n",
    "if author[1] in auth_libris and author[0] in auth_libris:\n",
    "    print(auth_libris)\n"
   ]
  },
  {
   "cell_type": "code",
   "execution_count": 28,
   "metadata": {},
   "outputs": [],
   "source": [
    "import pandas as pd\n",
    "import requests\n",
    "import json\n",
    "author_url ='George+Orwell'\n",
    "\n",
    "url_OL1 = 'https://openlibrary.org/search/authors.json?q='+f'{author_url}'\n",
    "response = requests.get(url_OL1)\n",
    "url_OLD1 = response.json()\n",
    "url_OLD1 = url_OLD1['docs']\n",
    "df_OL = pd.json_normalize(url_OLD1)\n",
    "df_OL.head()\n",
    "#df_OL_out = df_OL.loc[(df_OL.key)&(df_OL.name)& (df_OL.alternate_names)&(df_OL.top_work)&(df_OL.top_subjects)].reset_index()\n",
    "df_OL_out = df_OL.loc[0]\n",
    "df_OL_out\n",
    "OL = df_OL_out['key']\n",
    "top_work = df_OL['top_work']\n",
    "df_OL1 = df_OL_out.to_dict()"
   ]
  },
  {
   "cell_type": "code",
   "execution_count": 31,
   "metadata": {},
   "outputs": [
    {
     "data": {
      "text/plain": [
       "('No Bio Exist', '0000000121441305', '95155403')"
      ]
     },
     "execution_count": 31,
     "metadata": {},
     "output_type": "execute_result"
    }
   ],
   "source": [
    "url_OL2 = f'https://openlibrary.org/authors/{OL}.json'\n",
    "response = requests.get(url_OL2)\n",
    "url_OLD2 = response.json()\n",
    "df_OL2 = pd.json_normalize(url_OLD2)\n",
    "try:\n",
    "    bio_OL = df_OL2.loc[0]['bio.value']\n",
    "except:\n",
    "    bio_OL = 'No Bio Exist'\n",
    "viaf = df_OL2.loc[0]['remote_ids.viaf']\n",
    "isni = df_OL2.loc[0]['remote_ids.isni']\n",
    "bio_OL, isni, viaf"
   ]
  },
  {
   "cell_type": "code",
   "execution_count": 21,
   "metadata": {},
   "outputs": [],
   "source": [
    "url_OL3 = f'https://openlibrary.org/authors/{OL}/works.json'\n",
    "response = requests.get(url_OL3)\n",
    "url_OLD3 = response.json()\n",
    "df_OL3 = pd.json_normalize(url_OLD3, record_path =['entries'])\n",
    "df_OL3['works'] = list(df_OL3.index)\n",
    "df_OL3['main_auth'] = list(df_OL3.index)\n",
    "df_OL3['auth'] = list(df_OL3.index)\n",
    "\n",
    "def replace_key(x):\n",
    "    work = df_OL3.loc[x]['key'].replace('/works/','')\n",
    "    return work\n",
    "\n",
    "def check_auth(x):\n",
    "    main = df_OL3['authors'][x][0]['author']['key']\n",
    "    return main\n",
    "\n",
    "def replace_auth_key(x):\n",
    "    auth = df_OL3.loc[x]['main_auth'].replace('/authors/','')\n",
    "    return auth\n",
    "\n",
    "\"\"\"    try:\n",
    "        if df_OL3['authors'][x][0]['author']['key']:\n",
    "            main = df_OL3['authors'][x][0]['author']['key']\n",
    "            return main\n",
    "    except:\n",
    "        not_main = df_OL3['authors'][x][0]['type']['key']\n",
    "        return not_main\n",
    "\"\"\"\n",
    "\n",
    "df_OL3['works'] = df_OL3[\"works\"].apply(lambda x=df_OL3.index: replace_key(x))\n",
    "df_OL3['main_auth'] = df_OL3[\"main_auth\"].apply(lambda x=df_OL3.index: check_auth(x))\n",
    "df_OL3['auth'] = df_OL3[\"auth\"].apply(lambda x=df_OL3.index: replace_auth_key(x))\n",
    "df_OL3_out = df_OL3[[\"works\",\"auth\",\"title\",\"description\",\"subjects\"]]\n",
    "df_OL3_Dict = df_OL3_out.to_dict()"
   ]
  },
  {
   "cell_type": "code",
   "execution_count": null,
   "metadata": {},
   "outputs": [],
   "source": []
  },
  {
   "cell_type": "code",
   "execution_count": 22,
   "metadata": {},
   "outputs": [],
   "source": [
    "url_OL3 = f'https://openlibrary.org/authors/{OL}/works.json'\n",
    "response = requests.get(url_OL3)\n",
    "url_OLD3 = response.json()\n",
    "df_OL3 = pd.json_normalize(url_OLD3, record_path =['entries'])\n",
    "df_OL3['works'] = list(df_OL3.index)\n",
    "df_OL3['main_auth'] = list(df_OL3.index)\n",
    "df_OL3['auth'] = list(df_OL3.index)\n",
    "\n",
    "def replace_key(x):\n",
    "    work = df_OL3.loc[x]['key'].replace('/works/','')\n",
    "    return work\n",
    "\n",
    "def check_auth(x):\n",
    "    main = df_OL3['authors'][x][0]['author']['key']\n",
    "    return main\n",
    "\n",
    "def replace_auth_key(x):\n",
    "    auth = df_OL3.loc[x]['main_auth'].replace('/authors/','')\n",
    "    return auth\n",
    "\n",
    "\"\"\"    try:\n",
    "        if df_OL3['authors'][x][0]['author']['key']:\n",
    "            main = df_OL3['authors'][x][0]['author']['key']\n",
    "            return main\n",
    "    except:\n",
    "        not_main = df_OL3['authors'][x][0]['type']['key']\n",
    "        return not_main\n",
    "\"\"\"\n",
    "df_OL3['works'] = df_OL3[\"works\"].apply(lambda x=df_OL3.index: replace_key(x))\n",
    "df_OL3['main_auth'] = df_OL3[\"main_auth\"].apply(lambda x=df_OL3.index: check_auth(x))\n",
    "df_OL3['auth'] = df_OL3[\"auth\"].apply(lambda x=df_OL3.index: replace_auth_key(x))\n",
    "df_OL3_out = df_OL3[[\"works\",\"auth\",\"title\",\"description\",\"subjects\"]]\n",
    "df_OL3_Dict = df_OL3_out.to_dict()"
   ]
  },
  {
   "cell_type": "code",
   "execution_count": 23,
   "metadata": {},
   "outputs": [],
   "source": [
    "def get_book(x):\n",
    "    #url_OL4 = f\"https://openlibrary.org/works/{x}.json\"\n",
    "    url_OL4 = f\"https://openlibrary.org/works/{x}/editions.json\"\n",
    "    response = requests.get(url_OL4)\n",
    "    url_OLD4 = response.json()\n",
    "    df_OLD4 = pd.json_normalize(url_OLD4, record_path =['entries'])\n",
    "    df_OLD4['book_id'] = df_OLD4['key'].str.replace('/books/', '')\n",
    "    return df_OLD4"
   ]
  },
  {
   "cell_type": "code",
   "execution_count": 24,
   "metadata": {},
   "outputs": [],
   "source": [
    "def isbn_check(df_OL3_out):\n",
    "    isbn_dict = {}\n",
    "    for i in df_OL3_out.index:\n",
    "        try:\n",
    "            df_OLD4 = get_book(df_OL3_out.loc[i]['works'])\n",
    "            isbn_dict[df_OL3_out.loc[i]['works']] = {}\n",
    "            isbn_dict[df_OL3_out.loc[i]['works']]['book_id'] = df_OLD4['book_id'][0]\n",
    "            isbn_dict[df_OL3_out.loc[i]['works']]['title'] = df_OLD4['title'][0]\n",
    "            isbn_dict[df_OL3_out.loc[i]['works']]['isbn_10'] = 'none'\n",
    "            isbn_dict[df_OL3_out.loc[i]['works']]['isbn_13'] = 'none'\n",
    "            if isinstance(df_OLD4[\"book_id\"], list):\n",
    "                isbn_dict[df_OL3_out.loc[i]['works']]['book_id'] = df_OLD4['book_id'][0]\n",
    "            else:\n",
    "                isbn_dict[df_OL3_out.loc[i]['works']]['book_id'] = df_OLD4['book_id'][0]\n",
    "            if 'isbn_10' in df_OLD4:\n",
    "                if isinstance(df_OLD4[\"isbn_10\"], list):\n",
    "                    isbn_dict[df_OL3_out.loc[i]['works']]['isbn_10'] = df_OLD4['isbn_10'][0]\n",
    "                else:\n",
    "                    isbn_dict[df_OL3_out.loc[i]['works']]['isbn_10'] = df_OLD4['isbn_10'][0]\n",
    "            if 'isbn_13' in df_OLD4:\n",
    "                if isinstance(df_OLD4[\"isbn_13\"], list):\n",
    "                    isbn_dict[df_OL3_out.loc[i]['works']]['isbn_13'] = df_OLD4['isbn_13'][0]\n",
    "                else:\n",
    "                    isbn_dict[df_OL3_out.loc[i]['works']]['isbn_13'] = df_OLD4['isbn_13'][0]\n",
    "        except:\n",
    "            print('multiple editions of same book exists')\n",
    "    return isbn_dict\n"
   ]
  },
  {
   "cell_type": "code",
   "execution_count": 26,
   "metadata": {},
   "outputs": [
    {
     "name": "stdout",
     "output_type": "stream",
     "text": [
      "multiple editions of same book exists\n"
     ]
    },
    {
     "data": {
      "text/html": [
       "<div>\n",
       "<style scoped>\n",
       "    .dataframe tbody tr th:only-of-type {\n",
       "        vertical-align: middle;\n",
       "    }\n",
       "\n",
       "    .dataframe tbody tr th {\n",
       "        vertical-align: top;\n",
       "    }\n",
       "\n",
       "    .dataframe thead th {\n",
       "        text-align: right;\n",
       "    }\n",
       "</style>\n",
       "<table border=\"1\" class=\"dataframe\">\n",
       "  <thead>\n",
       "    <tr style=\"text-align: right;\">\n",
       "      <th></th>\n",
       "      <th>book_id</th>\n",
       "      <th>title</th>\n",
       "      <th>isbn_10</th>\n",
       "      <th>isbn_13</th>\n",
       "    </tr>\n",
       "  </thead>\n",
       "  <tbody>\n",
       "    <tr>\n",
       "      <th>OL18183435W</th>\n",
       "      <td>OL2224770M</td>\n",
       "      <td>The Winchester Reader</td>\n",
       "      <td>[0312048807]</td>\n",
       "      <td>none</td>\n",
       "    </tr>\n",
       "    <tr>\n",
       "      <th>OL24500055W</th>\n",
       "      <td>OL32464325M</td>\n",
       "      <td>Statesmanship</td>\n",
       "      <td>[1474619274]</td>\n",
       "      <td>[9781474619271]</td>\n",
       "    </tr>\n",
       "    <tr>\n",
       "      <th>OL18165436W</th>\n",
       "      <td>OL10077458M</td>\n",
       "      <td>Prentice Hall Literature</td>\n",
       "      <td>[0130624306]</td>\n",
       "      <td>[9780130624307]</td>\n",
       "    </tr>\n",
       "    <tr>\n",
       "      <th>OL24558288W</th>\n",
       "      <td>OL7343807M</td>\n",
       "      <td>Prentice Hall: Literature</td>\n",
       "      <td>[0137224559]</td>\n",
       "      <td>[9780137224555]</td>\n",
       "    </tr>\n",
       "    <tr>\n",
       "      <th>OL9319238W</th>\n",
       "      <td>OL42059292M</td>\n",
       "      <td>Prentice Hall Literature</td>\n",
       "      <td>[013131758X]</td>\n",
       "      <td>[9780131317581]</td>\n",
       "    </tr>\n",
       "  </tbody>\n",
       "</table>\n",
       "</div>"
      ],
      "text/plain": [
       "                 book_id                      title       isbn_10  \\\n",
       "OL18183435W   OL2224770M      The Winchester Reader  [0312048807]   \n",
       "OL24500055W  OL32464325M              Statesmanship  [1474619274]   \n",
       "OL18165436W  OL10077458M   Prentice Hall Literature  [0130624306]   \n",
       "OL24558288W   OL7343807M  Prentice Hall: Literature  [0137224559]   \n",
       "OL9319238W   OL42059292M   Prentice Hall Literature  [013131758X]   \n",
       "\n",
       "                     isbn_13  \n",
       "OL18183435W             none  \n",
       "OL24500055W  [9781474619271]  \n",
       "OL18165436W  [9780130624307]  \n",
       "OL24558288W  [9780137224555]  \n",
       "OL9319238W   [9780131317581]  "
      ]
     },
     "execution_count": 26,
     "metadata": {},
     "output_type": "execute_result"
    }
   ],
   "source": [
    "isbn_dict = isbn_check(df_OL3_out)\n",
    "isbn= pd.DataFrame.from_dict(isbn_dict,orient='index')\n",
    "isbn.head()"
   ]
  }
 ],
 "metadata": {
  "kernelspec": {
   "display_name": "Python 3",
   "language": "python",
   "name": "python3"
  },
  "language_info": {
   "codemirror_mode": {
    "name": "ipython",
    "version": 3
   },
   "file_extension": ".py",
   "mimetype": "text/x-python",
   "name": "python",
   "nbconvert_exporter": "python",
   "pygments_lexer": "ipython3",
   "version": "3.11.5"
  }
 },
 "nbformat": 4,
 "nbformat_minor": 2
}
